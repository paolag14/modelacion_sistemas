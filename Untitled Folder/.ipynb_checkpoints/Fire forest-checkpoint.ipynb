{
 "cells": [
  {
   "cell_type": "code",
   "execution_count": null,
   "id": "d6acfafc",
   "metadata": {},
   "outputs": [],
   "source": [
    "import pandas \n",
    "\n",
    "# Model design\n",
    "import agentpy as ap\n",
    "\n",
    "# Visualization\n",
    "import matplotlib.pyplot as plt\n",
    "import seaborn as sns\n",
    "import IPython"
   ]
  },
  {
   "cell_type": "code",
   "execution_count": 9,
   "id": "d0958465",
   "metadata": {},
   "outputs": [],
   "source": [
    "class ForestModel(ap.Model):\n",
    "\n",
    "    def setup(self):\n",
    "\n",
    "        # Create agents (trees)\n",
    "        n_trees = int(self.p['Tree density'] * (self.p.size**2))\n",
    "        trees = self.agents = ap.AgentList(self, n_trees)\n",
    "\n",
    "        # Create grid (forest)\n",
    "        self.forest = ap.Grid(self, [self.p.size]*2, track_empty=True)\n",
    "        self.forest.add_agents(trees, random=True, empty=True)\n",
    "\n",
    "        # Initiate a dynamic variable for all trees\n",
    "        # Condition 0: Alive, 1: Burning, 2: Burned\n",
    "        self.agents.condition = 0\n",
    "\n",
    "        # Start a fire from the left side of the grid\n",
    "        unfortunate_trees = self.forest.agents[0:self.p.size, 0:2]\n",
    "        unfortunate_trees.condition = 1\n",
    "\n",
    "    def step(self):\n",
    "\n",
    "        # Select burning trees\n",
    "        burning_trees = self.agents.select(self.agents.condition == 1)\n",
    "\n",
    "        # Spread fire\n",
    "        for tree in burning_trees:\n",
    "            for neighbor in self.forest.neighbors(tree):\n",
    "                if neighbor.condition == 0:\n",
    "                    neighbor.condition = 1 # Neighbor starts burning\n",
    "            tree.condition = 2 # Tree burns out\n",
    "\n",
    "        # Stop simulation if no fire is left\n",
    "        if len(burning_trees) == 0:\n",
    "            self.stop()\n",
    "\n",
    "    def end(self):\n",
    "\n",
    "        # Document a measure at the end of the simulation\n",
    "        burned_trees = len(self.agents.select(self.agents.condition == 2))\n",
    "        self.report('Percentage of burned trees',\n",
    "                    burned_trees / len(self.agents))"
   ]
  },
  {
   "cell_type": "code",
   "execution_count": 10,
   "id": "adac1ee9",
   "metadata": {},
   "outputs": [],
   "source": [
    "# Define parameters\n",
    "\n",
    "parameters = {\n",
    "    'Tree density': 0.6, # Percentage of grid covered by trees\n",
    "    'size': 50, # Height and length of the grid\n",
    "    'steps': 100,\n",
    "}\n",
    "    "
   ]
  },
  {
   "cell_type": "code",
   "execution_count": null,
   "id": "f294508b",
   "metadata": {},
   "outputs": [],
   "source": [
    "# Create single-run animation with custom colors\n",
    "\n",
    "def animation_plot(model, ax):\n",
    "    attr_grid = model.forest.attr_grid('condition')\n",
    "    color_dict = {0:'#7FC97F', 1:'#d62c2c', 2:'#e5e5e5', None:'#d5e5d5'}\n",
    "    ap.gridplot(attr_grid, ax=ax, color_dict=color_dict, convert=True)\n",
    "    ax.set_title(f\"Simulation of a forest fire\\n\"\n",
    "                 f\"Time-step: {model.t}, Trees left: \"\n",
    "                 f\"{len(model.agents.select(model.agents.condition == 0))}\")\n",
    "\n",
    "fig, ax = plt.subplots()\n",
    "model = ForestModel(parameters)\n",
    "animation = ap.animate(model, fig, ax, animation_plot)\n",
    "IPython.display.HTML(animation.to_jshtml(fps=15))"
   ]
  },
  {
   "cell_type": "code",
   "execution_count": null,
   "id": "fd683d6d",
   "metadata": {},
   "outputs": [],
   "source": []
  }
 ],
 "metadata": {
  "kernelspec": {
   "display_name": "Python 3 (ipykernel)",
   "language": "python",
   "name": "python3"
  },
  "language_info": {
   "codemirror_mode": {
    "name": "ipython",
    "version": 3
   },
   "file_extension": ".py",
   "mimetype": "text/x-python",
   "name": "python",
   "nbconvert_exporter": "python",
   "pygments_lexer": "ipython3",
   "version": "3.10.4"
  }
 },
 "nbformat": 4,
 "nbformat_minor": 5
}
